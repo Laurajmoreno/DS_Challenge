{
 "cells": [
  {
   "cell_type": "markdown",
   "metadata": {},
   "source": [
    "# Plot the monthly number of searches for flights arriving at Málaga, Madrid or Barcelona"
   ]
  },
  {
   "cell_type": "markdown",
   "metadata": {},
   "source": [
    "•  For the arriving airport, you can use the Destination column in the searches file. \n",
    "\n",
    "• Plot a curve for Málaga, another one for Madrid, and another one for Barcelona, in the same figure.\n",
    "\n",
    "• Bonus point: Solving this problem using pandas (instead of any other approach)"
   ]
  },
  {
   "cell_type": "markdown",
   "metadata": {},
   "source": [
    "## Import libraries"
   ]
  },
  {
   "cell_type": "code",
   "execution_count": 2,
   "metadata": {},
   "outputs": [],
   "source": [
    "import pandas as pd\n",
    "import numpy as np\n",
    "import matplotlib.pyplot as plt\n",
    "import seaborn as sns\n",
    "plt.style.use('seaborn')\n",
    "%matplotlib inline"
   ]
  },
  {
   "cell_type": "markdown",
   "metadata": {},
   "source": [
    "## Data Path in my computer"
   ]
  },
  {
   "cell_type": "code",
   "execution_count": 2,
   "metadata": {},
   "outputs": [
    {
     "name": "stdout",
     "output_type": "stream",
     "text": [
      "bookings.csv.bz2  searches.csv.bz2\r\n"
     ]
    }
   ],
   "source": [
    "!ls /home/dsc/Data/challenge/"
   ]
  },
  {
   "cell_type": "markdown",
   "metadata": {},
   "source": [
    "## Step 1: Let's start by working with a sample of our dataset"
   ]
  },
  {
   "cell_type": "markdown",
   "metadata": {},
   "source": [
    "We will use the sample we have created in Exercise 1"
   ]
  },
  {
   "cell_type": "code",
   "execution_count": 5,
   "metadata": {},
   "outputs": [],
   "source": [
    "searches_sample = pd.read_csv('searches.sample.csv.bz2',compression='bz2', sep='^')"
   ]
  },
  {
   "cell_type": "code",
   "execution_count": 6,
   "metadata": {},
   "outputs": [
    {
     "data": {
      "text/plain": [
       "(999, 45)"
      ]
     },
     "execution_count": 6,
     "metadata": {},
     "output_type": "execute_result"
    }
   ],
   "source": [
    "searches_sample.shape"
   ]
  },
  {
   "cell_type": "code",
   "execution_count": 7,
   "metadata": {},
   "outputs": [
    {
     "data": {
      "text/html": [
       "<div>\n",
       "<style scoped>\n",
       "    .dataframe tbody tr th:only-of-type {\n",
       "        vertical-align: middle;\n",
       "    }\n",
       "\n",
       "    .dataframe tbody tr th {\n",
       "        vertical-align: top;\n",
       "    }\n",
       "\n",
       "    .dataframe thead th {\n",
       "        text-align: right;\n",
       "    }\n",
       "</style>\n",
       "<table border=\"1\" class=\"dataframe\">\n",
       "  <thead>\n",
       "    <tr style=\"text-align: right;\">\n",
       "      <th></th>\n",
       "      <th>Date</th>\n",
       "      <th>Time</th>\n",
       "      <th>TxnCode</th>\n",
       "      <th>OfficeID</th>\n",
       "      <th>Country</th>\n",
       "      <th>Origin</th>\n",
       "      <th>Destination</th>\n",
       "      <th>RoundTrip</th>\n",
       "      <th>NbSegments</th>\n",
       "      <th>Seg1Departure</th>\n",
       "      <th>...</th>\n",
       "      <th>Seg6Arrival</th>\n",
       "      <th>Seg6Date</th>\n",
       "      <th>Seg6Carrier</th>\n",
       "      <th>Seg6BookingCode</th>\n",
       "      <th>From</th>\n",
       "      <th>IsPublishedForNeg</th>\n",
       "      <th>IsFromInternet</th>\n",
       "      <th>IsFromVista</th>\n",
       "      <th>TerminalID</th>\n",
       "      <th>InternetOffice</th>\n",
       "    </tr>\n",
       "  </thead>\n",
       "  <tbody>\n",
       "    <tr>\n",
       "      <th>0</th>\n",
       "      <td>2013-01-01</td>\n",
       "      <td>20:25:57</td>\n",
       "      <td>MPT</td>\n",
       "      <td>624d8c3ac0b3a7ca03e3c167e0f48327</td>\n",
       "      <td>DE</td>\n",
       "      <td>TXL</td>\n",
       "      <td>AUH</td>\n",
       "      <td>1</td>\n",
       "      <td>2</td>\n",
       "      <td>TXL</td>\n",
       "      <td>...</td>\n",
       "      <td>NaN</td>\n",
       "      <td>NaN</td>\n",
       "      <td>NaN</td>\n",
       "      <td>NaN</td>\n",
       "      <td>1ASIWS</td>\n",
       "      <td>0</td>\n",
       "      <td>0</td>\n",
       "      <td>0</td>\n",
       "      <td>d41d8cd98f00b204e9800998ecf8427e</td>\n",
       "      <td>FRA</td>\n",
       "    </tr>\n",
       "    <tr>\n",
       "      <th>1</th>\n",
       "      <td>2013-01-01</td>\n",
       "      <td>10:15:33</td>\n",
       "      <td>MPT</td>\n",
       "      <td>b0af35b31588dc4ab06d5cf2986e8e02</td>\n",
       "      <td>MD</td>\n",
       "      <td>ATH</td>\n",
       "      <td>MIL</td>\n",
       "      <td>0</td>\n",
       "      <td>1</td>\n",
       "      <td>ATH</td>\n",
       "      <td>...</td>\n",
       "      <td>NaN</td>\n",
       "      <td>NaN</td>\n",
       "      <td>NaN</td>\n",
       "      <td>NaN</td>\n",
       "      <td>1ASIWS</td>\n",
       "      <td>0</td>\n",
       "      <td>0</td>\n",
       "      <td>0</td>\n",
       "      <td>d41d8cd98f00b204e9800998ecf8427e</td>\n",
       "      <td>KIV</td>\n",
       "    </tr>\n",
       "    <tr>\n",
       "      <th>2</th>\n",
       "      <td>2013-01-01</td>\n",
       "      <td>18:04:49</td>\n",
       "      <td>MPT</td>\n",
       "      <td>3561a60621de06ab1badc8ca55699ef3</td>\n",
       "      <td>US</td>\n",
       "      <td>ICT</td>\n",
       "      <td>SFO</td>\n",
       "      <td>1</td>\n",
       "      <td>2</td>\n",
       "      <td>ICT</td>\n",
       "      <td>...</td>\n",
       "      <td>NaN</td>\n",
       "      <td>NaN</td>\n",
       "      <td>NaN</td>\n",
       "      <td>NaN</td>\n",
       "      <td>1ASIWS</td>\n",
       "      <td>0</td>\n",
       "      <td>0</td>\n",
       "      <td>0</td>\n",
       "      <td>d41d8cd98f00b204e9800998ecf8427e</td>\n",
       "      <td>NYC</td>\n",
       "    </tr>\n",
       "    <tr>\n",
       "      <th>3</th>\n",
       "      <td>2013-01-01</td>\n",
       "      <td>17:42:40</td>\n",
       "      <td>FXP</td>\n",
       "      <td>1864e5e8013d9414150e91d26b6a558b</td>\n",
       "      <td>SE</td>\n",
       "      <td>RNB</td>\n",
       "      <td>ARN</td>\n",
       "      <td>0</td>\n",
       "      <td>1</td>\n",
       "      <td>RNB</td>\n",
       "      <td>...</td>\n",
       "      <td>NaN</td>\n",
       "      <td>NaN</td>\n",
       "      <td>NaN</td>\n",
       "      <td>NaN</td>\n",
       "      <td>1ASI</td>\n",
       "      <td>0</td>\n",
       "      <td>0</td>\n",
       "      <td>0</td>\n",
       "      <td>d41d8cd98f00b204e9800998ecf8427e</td>\n",
       "      <td>STO</td>\n",
       "    </tr>\n",
       "    <tr>\n",
       "      <th>4</th>\n",
       "      <td>2013-01-01</td>\n",
       "      <td>17:48:29</td>\n",
       "      <td>MPT</td>\n",
       "      <td>1ec336348f44207d2e0027dc3a68c118</td>\n",
       "      <td>NO</td>\n",
       "      <td>OSL</td>\n",
       "      <td>MAD</td>\n",
       "      <td>1</td>\n",
       "      <td>2</td>\n",
       "      <td>OSL</td>\n",
       "      <td>...</td>\n",
       "      <td>NaN</td>\n",
       "      <td>NaN</td>\n",
       "      <td>NaN</td>\n",
       "      <td>NaN</td>\n",
       "      <td>1ASIWS</td>\n",
       "      <td>0</td>\n",
       "      <td>0</td>\n",
       "      <td>0</td>\n",
       "      <td>d41d8cd98f00b204e9800998ecf8427e</td>\n",
       "      <td>OSL</td>\n",
       "    </tr>\n",
       "  </tbody>\n",
       "</table>\n",
       "<p>5 rows × 45 columns</p>\n",
       "</div>"
      ],
      "text/plain": [
       "         Date      Time TxnCode                          OfficeID Country  \\\n",
       "0  2013-01-01  20:25:57     MPT  624d8c3ac0b3a7ca03e3c167e0f48327      DE   \n",
       "1  2013-01-01  10:15:33     MPT  b0af35b31588dc4ab06d5cf2986e8e02      MD   \n",
       "2  2013-01-01  18:04:49     MPT  3561a60621de06ab1badc8ca55699ef3      US   \n",
       "3  2013-01-01  17:42:40     FXP  1864e5e8013d9414150e91d26b6a558b      SE   \n",
       "4  2013-01-01  17:48:29     MPT  1ec336348f44207d2e0027dc3a68c118      NO   \n",
       "\n",
       "  Origin Destination  RoundTrip  NbSegments Seg1Departure  ... Seg6Arrival  \\\n",
       "0    TXL         AUH          1           2           TXL  ...         NaN   \n",
       "1    ATH         MIL          0           1           ATH  ...         NaN   \n",
       "2    ICT         SFO          1           2           ICT  ...         NaN   \n",
       "3    RNB         ARN          0           1           RNB  ...         NaN   \n",
       "4    OSL         MAD          1           2           OSL  ...         NaN   \n",
       "\n",
       "  Seg6Date Seg6Carrier Seg6BookingCode    From IsPublishedForNeg  \\\n",
       "0      NaN         NaN             NaN  1ASIWS                 0   \n",
       "1      NaN         NaN             NaN  1ASIWS                 0   \n",
       "2      NaN         NaN             NaN  1ASIWS                 0   \n",
       "3      NaN         NaN             NaN    1ASI                 0   \n",
       "4      NaN         NaN             NaN  1ASIWS                 0   \n",
       "\n",
       "  IsFromInternet IsFromVista                        TerminalID InternetOffice  \n",
       "0              0           0  d41d8cd98f00b204e9800998ecf8427e            FRA  \n",
       "1              0           0  d41d8cd98f00b204e9800998ecf8427e            KIV  \n",
       "2              0           0  d41d8cd98f00b204e9800998ecf8427e            NYC  \n",
       "3              0           0  d41d8cd98f00b204e9800998ecf8427e            STO  \n",
       "4              0           0  d41d8cd98f00b204e9800998ecf8427e            OSL  \n",
       "\n",
       "[5 rows x 45 columns]"
      ]
     },
     "execution_count": 7,
     "metadata": {},
     "output_type": "execute_result"
    }
   ],
   "source": [
    "searches_sample.head()"
   ]
  },
  {
   "cell_type": "code",
   "execution_count": 8,
   "metadata": {},
   "outputs": [
    {
     "data": {
      "text/plain": [
       "Index(['Date', 'Time', 'TxnCode', 'OfficeID', 'Country', 'Origin',\n",
       "       'Destination', 'RoundTrip', 'NbSegments', 'Seg1Departure',\n",
       "       'Seg1Arrival', 'Seg1Date', 'Seg1Carrier', 'Seg1BookingCode',\n",
       "       'Seg2Departure', 'Seg2Arrival', 'Seg2Date', 'Seg2Carrier',\n",
       "       'Seg2BookingCode', 'Seg3Departure', 'Seg3Arrival', 'Seg3Date',\n",
       "       'Seg3Carrier', 'Seg3BookingCode', 'Seg4Departure', 'Seg4Arrival',\n",
       "       'Seg4Date', 'Seg4Carrier', 'Seg4BookingCode', 'Seg5Departure',\n",
       "       'Seg5Arrival', 'Seg5Date', 'Seg5Carrier', 'Seg5BookingCode',\n",
       "       'Seg6Departure', 'Seg6Arrival', 'Seg6Date', 'Seg6Carrier',\n",
       "       'Seg6BookingCode', 'From', 'IsPublishedForNeg', 'IsFromInternet',\n",
       "       'IsFromVista', 'TerminalID', 'InternetOffice'],\n",
       "      dtype='object')"
      ]
     },
     "execution_count": 8,
     "metadata": {},
     "output_type": "execute_result"
    }
   ],
   "source": [
    "searches_sample.columns"
   ]
  },
  {
   "cell_type": "code",
   "execution_count": 9,
   "metadata": {},
   "outputs": [
    {
     "data": {
      "text/plain": [
       "0      01\n",
       "1      01\n",
       "2      01\n",
       "3      01\n",
       "4      01\n",
       "       ..\n",
       "994    01\n",
       "995    01\n",
       "996    01\n",
       "997    01\n",
       "998    01\n",
       "Name: Month, Length: 999, dtype: object"
      ]
     },
     "execution_count": 9,
     "metadata": {},
     "output_type": "execute_result"
    }
   ],
   "source": [
    "searches_sample['Month'] = searches_sample['Date'].str[-5:-3]\n",
    "searches_sample['Month']"
   ]
  },
  {
   "cell_type": "code",
   "execution_count": 12,
   "metadata": {},
   "outputs": [],
   "source": [
    "mad_searches_sample = searches_sample[ searches_sample['Destination'] == 'MAD']\n",
    "bcn_searches_sample = searches_sample[ searches_sample['Destination'] == 'BCN']\n",
    "mal_searches_sample = searches_sample[ searches_sample['Destination'] == 'AGP']"
   ]
  },
  {
   "cell_type": "code",
   "execution_count": 14,
   "metadata": {},
   "outputs": [
    {
     "data": {
      "text/html": [
       "<div>\n",
       "<style scoped>\n",
       "    .dataframe tbody tr th:only-of-type {\n",
       "        vertical-align: middle;\n",
       "    }\n",
       "\n",
       "    .dataframe tbody tr th {\n",
       "        vertical-align: top;\n",
       "    }\n",
       "\n",
       "    .dataframe thead th {\n",
       "        text-align: right;\n",
       "    }\n",
       "</style>\n",
       "<table border=\"1\" class=\"dataframe\">\n",
       "  <thead>\n",
       "    <tr style=\"text-align: right;\">\n",
       "      <th></th>\n",
       "      <th>Destination</th>\n",
       "    </tr>\n",
       "    <tr>\n",
       "      <th>Month</th>\n",
       "      <th></th>\n",
       "    </tr>\n",
       "  </thead>\n",
       "  <tbody>\n",
       "    <tr>\n",
       "      <th>01</th>\n",
       "      <td>11</td>\n",
       "    </tr>\n",
       "  </tbody>\n",
       "</table>\n",
       "</div>"
      ],
      "text/plain": [
       "       Destination\n",
       "Month             \n",
       "01              11"
      ]
     },
     "execution_count": 14,
     "metadata": {},
     "output_type": "execute_result"
    }
   ],
   "source": [
    "searches_mad = mad_searches_sample.groupby(\"Month\")[['Destination']].count()\n",
    "searches_mad"
   ]
  },
  {
   "cell_type": "code",
   "execution_count": 15,
   "metadata": {},
   "outputs": [
    {
     "data": {
      "text/html": [
       "<div>\n",
       "<style scoped>\n",
       "    .dataframe tbody tr th:only-of-type {\n",
       "        vertical-align: middle;\n",
       "    }\n",
       "\n",
       "    .dataframe tbody tr th {\n",
       "        vertical-align: top;\n",
       "    }\n",
       "\n",
       "    .dataframe thead th {\n",
       "        text-align: right;\n",
       "    }\n",
       "</style>\n",
       "<table border=\"1\" class=\"dataframe\">\n",
       "  <thead>\n",
       "    <tr style=\"text-align: right;\">\n",
       "      <th></th>\n",
       "      <th>Destination</th>\n",
       "    </tr>\n",
       "    <tr>\n",
       "      <th>Month</th>\n",
       "      <th></th>\n",
       "    </tr>\n",
       "  </thead>\n",
       "  <tbody>\n",
       "    <tr>\n",
       "      <th>01</th>\n",
       "      <td>26</td>\n",
       "    </tr>\n",
       "  </tbody>\n",
       "</table>\n",
       "</div>"
      ],
      "text/plain": [
       "       Destination\n",
       "Month             \n",
       "01              26"
      ]
     },
     "execution_count": 15,
     "metadata": {},
     "output_type": "execute_result"
    }
   ],
   "source": [
    "searches_bcn = bcn_searches_sample.groupby(\"Month\")[['Destination']].count()\n",
    "searches_bcn"
   ]
  },
  {
   "cell_type": "code",
   "execution_count": 16,
   "metadata": {},
   "outputs": [
    {
     "data": {
      "text/html": [
       "<div>\n",
       "<style scoped>\n",
       "    .dataframe tbody tr th:only-of-type {\n",
       "        vertical-align: middle;\n",
       "    }\n",
       "\n",
       "    .dataframe tbody tr th {\n",
       "        vertical-align: top;\n",
       "    }\n",
       "\n",
       "    .dataframe thead th {\n",
       "        text-align: right;\n",
       "    }\n",
       "</style>\n",
       "<table border=\"1\" class=\"dataframe\">\n",
       "  <thead>\n",
       "    <tr style=\"text-align: right;\">\n",
       "      <th></th>\n",
       "      <th>Destination</th>\n",
       "    </tr>\n",
       "    <tr>\n",
       "      <th>Month</th>\n",
       "      <th></th>\n",
       "    </tr>\n",
       "  </thead>\n",
       "  <tbody>\n",
       "    <tr>\n",
       "      <th>01</th>\n",
       "      <td>7</td>\n",
       "    </tr>\n",
       "  </tbody>\n",
       "</table>\n",
       "</div>"
      ],
      "text/plain": [
       "       Destination\n",
       "Month             \n",
       "01               7"
      ]
     },
     "execution_count": 16,
     "metadata": {},
     "output_type": "execute_result"
    }
   ],
   "source": [
    "searches_mal = mal_searches_sample.groupby(\"Month\")[['Destination']].count()\n",
    "searches_mal"
   ]
  },
  {
   "cell_type": "markdown",
   "metadata": {},
   "source": [
    "Our sample is too small. We only have data for january. Let's create a bigger sample."
   ]
  },
  {
   "cell_type": "code",
   "execution_count": 17,
   "metadata": {},
   "outputs": [],
   "source": [
    "sample = pd.read_csv('/home/dsc/Data/challenge/searches.csv.bz2',compression='bz2',sep='^',nrows=100000)"
   ]
  },
  {
   "cell_type": "code",
   "execution_count": 18,
   "metadata": {},
   "outputs": [
    {
     "data": {
      "text/plain": [
       "(100000, 45)"
      ]
     },
     "execution_count": 18,
     "metadata": {},
     "output_type": "execute_result"
    }
   ],
   "source": [
    "sample.shape"
   ]
  },
  {
   "cell_type": "code",
   "execution_count": 19,
   "metadata": {},
   "outputs": [
    {
     "data": {
      "text/plain": [
       "Index(['Date', 'Time', 'TxnCode', 'OfficeID', 'Country', 'Origin',\n",
       "       'Destination', 'RoundTrip', 'NbSegments', 'Seg1Departure',\n",
       "       'Seg1Arrival', 'Seg1Date', 'Seg1Carrier', 'Seg1BookingCode',\n",
       "       'Seg2Departure', 'Seg2Arrival', 'Seg2Date', 'Seg2Carrier',\n",
       "       'Seg2BookingCode', 'Seg3Departure', 'Seg3Arrival', 'Seg3Date',\n",
       "       'Seg3Carrier', 'Seg3BookingCode', 'Seg4Departure', 'Seg4Arrival',\n",
       "       'Seg4Date', 'Seg4Carrier', 'Seg4BookingCode', 'Seg5Departure',\n",
       "       'Seg5Arrival', 'Seg5Date', 'Seg5Carrier', 'Seg5BookingCode',\n",
       "       'Seg6Departure', 'Seg6Arrival', 'Seg6Date', 'Seg6Carrier',\n",
       "       'Seg6BookingCode', 'From', 'IsPublishedForNeg', 'IsFromInternet',\n",
       "       'IsFromVista', 'TerminalID', 'InternetOffice'],\n",
       "      dtype='object')"
      ]
     },
     "execution_count": 19,
     "metadata": {},
     "output_type": "execute_result"
    }
   ],
   "source": [
    "sample.columns"
   ]
  },
  {
   "cell_type": "code",
   "execution_count": 20,
   "metadata": {},
   "outputs": [
    {
     "data": {
      "text/html": [
       "<div>\n",
       "<style scoped>\n",
       "    .dataframe tbody tr th:only-of-type {\n",
       "        vertical-align: middle;\n",
       "    }\n",
       "\n",
       "    .dataframe tbody tr th {\n",
       "        vertical-align: top;\n",
       "    }\n",
       "\n",
       "    .dataframe thead th {\n",
       "        text-align: right;\n",
       "    }\n",
       "</style>\n",
       "<table border=\"1\" class=\"dataframe\">\n",
       "  <thead>\n",
       "    <tr style=\"text-align: right;\">\n",
       "      <th></th>\n",
       "      <th>Date</th>\n",
       "      <th>Time</th>\n",
       "      <th>TxnCode</th>\n",
       "      <th>OfficeID</th>\n",
       "      <th>Country</th>\n",
       "      <th>Origin</th>\n",
       "      <th>Destination</th>\n",
       "      <th>RoundTrip</th>\n",
       "      <th>NbSegments</th>\n",
       "      <th>Seg1Departure</th>\n",
       "      <th>...</th>\n",
       "      <th>Seg6Arrival</th>\n",
       "      <th>Seg6Date</th>\n",
       "      <th>Seg6Carrier</th>\n",
       "      <th>Seg6BookingCode</th>\n",
       "      <th>From</th>\n",
       "      <th>IsPublishedForNeg</th>\n",
       "      <th>IsFromInternet</th>\n",
       "      <th>IsFromVista</th>\n",
       "      <th>TerminalID</th>\n",
       "      <th>InternetOffice</th>\n",
       "    </tr>\n",
       "  </thead>\n",
       "  <tbody>\n",
       "    <tr>\n",
       "      <th>0</th>\n",
       "      <td>2013-01-01</td>\n",
       "      <td>20:25:57</td>\n",
       "      <td>MPT</td>\n",
       "      <td>624d8c3ac0b3a7ca03e3c167e0f48327</td>\n",
       "      <td>DE</td>\n",
       "      <td>TXL</td>\n",
       "      <td>AUH</td>\n",
       "      <td>1</td>\n",
       "      <td>2</td>\n",
       "      <td>TXL</td>\n",
       "      <td>...</td>\n",
       "      <td>NaN</td>\n",
       "      <td>NaN</td>\n",
       "      <td>NaN</td>\n",
       "      <td>NaN</td>\n",
       "      <td>1ASIWS</td>\n",
       "      <td>0</td>\n",
       "      <td>0</td>\n",
       "      <td>0</td>\n",
       "      <td>d41d8cd98f00b204e9800998ecf8427e</td>\n",
       "      <td>FRA</td>\n",
       "    </tr>\n",
       "    <tr>\n",
       "      <th>1</th>\n",
       "      <td>2013-01-01</td>\n",
       "      <td>10:15:33</td>\n",
       "      <td>MPT</td>\n",
       "      <td>b0af35b31588dc4ab06d5cf2986e8e02</td>\n",
       "      <td>MD</td>\n",
       "      <td>ATH</td>\n",
       "      <td>MIL</td>\n",
       "      <td>0</td>\n",
       "      <td>1</td>\n",
       "      <td>ATH</td>\n",
       "      <td>...</td>\n",
       "      <td>NaN</td>\n",
       "      <td>NaN</td>\n",
       "      <td>NaN</td>\n",
       "      <td>NaN</td>\n",
       "      <td>1ASIWS</td>\n",
       "      <td>0</td>\n",
       "      <td>0</td>\n",
       "      <td>0</td>\n",
       "      <td>d41d8cd98f00b204e9800998ecf8427e</td>\n",
       "      <td>KIV</td>\n",
       "    </tr>\n",
       "    <tr>\n",
       "      <th>2</th>\n",
       "      <td>2013-01-01</td>\n",
       "      <td>18:04:49</td>\n",
       "      <td>MPT</td>\n",
       "      <td>3561a60621de06ab1badc8ca55699ef3</td>\n",
       "      <td>US</td>\n",
       "      <td>ICT</td>\n",
       "      <td>SFO</td>\n",
       "      <td>1</td>\n",
       "      <td>2</td>\n",
       "      <td>ICT</td>\n",
       "      <td>...</td>\n",
       "      <td>NaN</td>\n",
       "      <td>NaN</td>\n",
       "      <td>NaN</td>\n",
       "      <td>NaN</td>\n",
       "      <td>1ASIWS</td>\n",
       "      <td>0</td>\n",
       "      <td>0</td>\n",
       "      <td>0</td>\n",
       "      <td>d41d8cd98f00b204e9800998ecf8427e</td>\n",
       "      <td>NYC</td>\n",
       "    </tr>\n",
       "    <tr>\n",
       "      <th>3</th>\n",
       "      <td>2013-01-01</td>\n",
       "      <td>17:42:40</td>\n",
       "      <td>FXP</td>\n",
       "      <td>1864e5e8013d9414150e91d26b6a558b</td>\n",
       "      <td>SE</td>\n",
       "      <td>RNB</td>\n",
       "      <td>ARN</td>\n",
       "      <td>0</td>\n",
       "      <td>1</td>\n",
       "      <td>RNB</td>\n",
       "      <td>...</td>\n",
       "      <td>NaN</td>\n",
       "      <td>NaN</td>\n",
       "      <td>NaN</td>\n",
       "      <td>NaN</td>\n",
       "      <td>1ASI</td>\n",
       "      <td>0</td>\n",
       "      <td>0</td>\n",
       "      <td>0</td>\n",
       "      <td>d41d8cd98f00b204e9800998ecf8427e</td>\n",
       "      <td>STO</td>\n",
       "    </tr>\n",
       "    <tr>\n",
       "      <th>4</th>\n",
       "      <td>2013-01-01</td>\n",
       "      <td>17:48:29</td>\n",
       "      <td>MPT</td>\n",
       "      <td>1ec336348f44207d2e0027dc3a68c118</td>\n",
       "      <td>NO</td>\n",
       "      <td>OSL</td>\n",
       "      <td>MAD</td>\n",
       "      <td>1</td>\n",
       "      <td>2</td>\n",
       "      <td>OSL</td>\n",
       "      <td>...</td>\n",
       "      <td>NaN</td>\n",
       "      <td>NaN</td>\n",
       "      <td>NaN</td>\n",
       "      <td>NaN</td>\n",
       "      <td>1ASIWS</td>\n",
       "      <td>0</td>\n",
       "      <td>0</td>\n",
       "      <td>0</td>\n",
       "      <td>d41d8cd98f00b204e9800998ecf8427e</td>\n",
       "      <td>OSL</td>\n",
       "    </tr>\n",
       "  </tbody>\n",
       "</table>\n",
       "<p>5 rows × 45 columns</p>\n",
       "</div>"
      ],
      "text/plain": [
       "         Date      Time TxnCode                          OfficeID Country  \\\n",
       "0  2013-01-01  20:25:57     MPT  624d8c3ac0b3a7ca03e3c167e0f48327      DE   \n",
       "1  2013-01-01  10:15:33     MPT  b0af35b31588dc4ab06d5cf2986e8e02      MD   \n",
       "2  2013-01-01  18:04:49     MPT  3561a60621de06ab1badc8ca55699ef3      US   \n",
       "3  2013-01-01  17:42:40     FXP  1864e5e8013d9414150e91d26b6a558b      SE   \n",
       "4  2013-01-01  17:48:29     MPT  1ec336348f44207d2e0027dc3a68c118      NO   \n",
       "\n",
       "  Origin Destination  RoundTrip  NbSegments Seg1Departure  ... Seg6Arrival  \\\n",
       "0    TXL         AUH          1           2           TXL  ...         NaN   \n",
       "1    ATH         MIL          0           1           ATH  ...         NaN   \n",
       "2    ICT         SFO          1           2           ICT  ...         NaN   \n",
       "3    RNB         ARN          0           1           RNB  ...         NaN   \n",
       "4    OSL         MAD          1           2           OSL  ...         NaN   \n",
       "\n",
       "  Seg6Date Seg6Carrier Seg6BookingCode    From IsPublishedForNeg  \\\n",
       "0      NaN         NaN             NaN  1ASIWS                 0   \n",
       "1      NaN         NaN             NaN  1ASIWS                 0   \n",
       "2      NaN         NaN             NaN  1ASIWS                 0   \n",
       "3      NaN         NaN             NaN    1ASI                 0   \n",
       "4      NaN         NaN             NaN  1ASIWS                 0   \n",
       "\n",
       "  IsFromInternet IsFromVista                        TerminalID InternetOffice  \n",
       "0              0           0  d41d8cd98f00b204e9800998ecf8427e            FRA  \n",
       "1              0           0  d41d8cd98f00b204e9800998ecf8427e            KIV  \n",
       "2              0           0  d41d8cd98f00b204e9800998ecf8427e            NYC  \n",
       "3              0           0  d41d8cd98f00b204e9800998ecf8427e            STO  \n",
       "4              0           0  d41d8cd98f00b204e9800998ecf8427e            OSL  \n",
       "\n",
       "[5 rows x 45 columns]"
      ]
     },
     "execution_count": 20,
     "metadata": {},
     "output_type": "execute_result"
    }
   ],
   "source": [
    "sample.head()"
   ]
  },
  {
   "cell_type": "code",
   "execution_count": 21,
   "metadata": {},
   "outputs": [
    {
     "data": {
      "text/plain": [
       "0        01\n",
       "1        01\n",
       "2        01\n",
       "3        01\n",
       "4        01\n",
       "         ..\n",
       "99995    04\n",
       "99996    04\n",
       "99997    04\n",
       "99998    04\n",
       "99999    04\n",
       "Name: Month, Length: 100000, dtype: object"
      ]
     },
     "execution_count": 21,
     "metadata": {},
     "output_type": "execute_result"
    }
   ],
   "source": [
    "sample['Month'] = sample['Date'].str[-5:-3]\n",
    "sample['Month']"
   ]
  },
  {
   "cell_type": "code",
   "execution_count": 22,
   "metadata": {},
   "outputs": [],
   "source": [
    "mad_sample = sample[ sample['Destination'] == 'MAD']\n",
    "bcn_sample = sample[ sample['Destination'] == 'BCN']\n",
    "mal_sample = sample[ sample['Destination'] == 'AGP']"
   ]
  },
  {
   "cell_type": "code",
   "execution_count": 23,
   "metadata": {},
   "outputs": [
    {
     "data": {
      "text/html": [
       "<div>\n",
       "<style scoped>\n",
       "    .dataframe tbody tr th:only-of-type {\n",
       "        vertical-align: middle;\n",
       "    }\n",
       "\n",
       "    .dataframe tbody tr th {\n",
       "        vertical-align: top;\n",
       "    }\n",
       "\n",
       "    .dataframe thead th {\n",
       "        text-align: right;\n",
       "    }\n",
       "</style>\n",
       "<table border=\"1\" class=\"dataframe\">\n",
       "  <thead>\n",
       "    <tr style=\"text-align: right;\">\n",
       "      <th></th>\n",
       "      <th>Destination</th>\n",
       "    </tr>\n",
       "    <tr>\n",
       "      <th>Month</th>\n",
       "      <th></th>\n",
       "    </tr>\n",
       "  </thead>\n",
       "  <tbody>\n",
       "    <tr>\n",
       "      <th>01</th>\n",
       "      <td>425</td>\n",
       "    </tr>\n",
       "    <tr>\n",
       "      <th>02</th>\n",
       "      <td>400</td>\n",
       "    </tr>\n",
       "    <tr>\n",
       "      <th>03</th>\n",
       "      <td>433</td>\n",
       "    </tr>\n",
       "    <tr>\n",
       "      <th>04</th>\n",
       "      <td>147</td>\n",
       "    </tr>\n",
       "  </tbody>\n",
       "</table>\n",
       "</div>"
      ],
      "text/plain": [
       "       Destination\n",
       "Month             \n",
       "01             425\n",
       "02             400\n",
       "03             433\n",
       "04             147"
      ]
     },
     "execution_count": 23,
     "metadata": {},
     "output_type": "execute_result"
    }
   ],
   "source": [
    "searches_mad = mad_sample.groupby(\"Month\")[['Destination']].count()\n",
    "searches_mad"
   ]
  },
  {
   "cell_type": "code",
   "execution_count": 24,
   "metadata": {},
   "outputs": [
    {
     "data": {
      "text/html": [
       "<div>\n",
       "<style scoped>\n",
       "    .dataframe tbody tr th:only-of-type {\n",
       "        vertical-align: middle;\n",
       "    }\n",
       "\n",
       "    .dataframe tbody tr th {\n",
       "        vertical-align: top;\n",
       "    }\n",
       "\n",
       "    .dataframe thead th {\n",
       "        text-align: right;\n",
       "    }\n",
       "</style>\n",
       "<table border=\"1\" class=\"dataframe\">\n",
       "  <thead>\n",
       "    <tr style=\"text-align: right;\">\n",
       "      <th></th>\n",
       "      <th>Destination</th>\n",
       "    </tr>\n",
       "    <tr>\n",
       "      <th>Month</th>\n",
       "      <th></th>\n",
       "    </tr>\n",
       "  </thead>\n",
       "  <tbody>\n",
       "    <tr>\n",
       "      <th>01</th>\n",
       "      <td>517</td>\n",
       "    </tr>\n",
       "    <tr>\n",
       "      <th>02</th>\n",
       "      <td>497</td>\n",
       "    </tr>\n",
       "    <tr>\n",
       "      <th>03</th>\n",
       "      <td>536</td>\n",
       "    </tr>\n",
       "    <tr>\n",
       "      <th>04</th>\n",
       "      <td>174</td>\n",
       "    </tr>\n",
       "  </tbody>\n",
       "</table>\n",
       "</div>"
      ],
      "text/plain": [
       "       Destination\n",
       "Month             \n",
       "01             517\n",
       "02             497\n",
       "03             536\n",
       "04             174"
      ]
     },
     "execution_count": 24,
     "metadata": {},
     "output_type": "execute_result"
    }
   ],
   "source": [
    "searches_bcn = bcn_sample.groupby(\"Month\")[['Destination']].count()\n",
    "searches_bcn"
   ]
  },
  {
   "cell_type": "code",
   "execution_count": 25,
   "metadata": {},
   "outputs": [
    {
     "data": {
      "text/html": [
       "<div>\n",
       "<style scoped>\n",
       "    .dataframe tbody tr th:only-of-type {\n",
       "        vertical-align: middle;\n",
       "    }\n",
       "\n",
       "    .dataframe tbody tr th {\n",
       "        vertical-align: top;\n",
       "    }\n",
       "\n",
       "    .dataframe thead th {\n",
       "        text-align: right;\n",
       "    }\n",
       "</style>\n",
       "<table border=\"1\" class=\"dataframe\">\n",
       "  <thead>\n",
       "    <tr style=\"text-align: right;\">\n",
       "      <th></th>\n",
       "      <th>Destination</th>\n",
       "    </tr>\n",
       "    <tr>\n",
       "      <th>Month</th>\n",
       "      <th></th>\n",
       "    </tr>\n",
       "  </thead>\n",
       "  <tbody>\n",
       "    <tr>\n",
       "      <th>01</th>\n",
       "      <td>169</td>\n",
       "    </tr>\n",
       "    <tr>\n",
       "      <th>02</th>\n",
       "      <td>147</td>\n",
       "    </tr>\n",
       "    <tr>\n",
       "      <th>03</th>\n",
       "      <td>187</td>\n",
       "    </tr>\n",
       "    <tr>\n",
       "      <th>04</th>\n",
       "      <td>31</td>\n",
       "    </tr>\n",
       "  </tbody>\n",
       "</table>\n",
       "</div>"
      ],
      "text/plain": [
       "       Destination\n",
       "Month             \n",
       "01             169\n",
       "02             147\n",
       "03             187\n",
       "04              31"
      ]
     },
     "execution_count": 25,
     "metadata": {},
     "output_type": "execute_result"
    }
   ],
   "source": [
    "searches_mal = mal_sample.groupby(\"Month\")[['Destination']].count()\n",
    "searches_mal"
   ]
  },
  {
   "cell_type": "code",
   "execution_count": 26,
   "metadata": {},
   "outputs": [],
   "source": [
    "madrid = searches_mad.reset_index()\n",
    "barcelona = searches_bcn.reset_index()\n",
    "malaga = searches_mal.reset_index()"
   ]
  },
  {
   "cell_type": "markdown",
   "metadata": {},
   "source": [
    "Let's plot results:"
   ]
  },
  {
   "cell_type": "code",
   "execution_count": 27,
   "metadata": {},
   "outputs": [
    {
     "data": {
      "text/plain": [
       "<matplotlib.legend.Legend at 0x7fda242546d0>"
      ]
     },
     "execution_count": 27,
     "metadata": {},
     "output_type": "execute_result"
    },
    {
     "data": {
      "image/png": "[encoded data removed]",
      "text/plain": [
       "<Figure size 432x288 with 1 Axes>"
      ]
     },
     "metadata": {
      "needs_background": "light"
     },
     "output_type": "display_data"
    }
   ],
   "source": [
    "fig, ax = plt.subplots()\n",
    "\n",
    "ax1= sns.lineplot(data=madrid, x='Month', y= 'Destination', label='Madrid')\n",
    "ax2= sns.lineplot(data=barcelona, x='Month', y= 'Destination', label='Barcelona')\n",
    "ax3= sns.lineplot(data=malaga, x='Month', y= 'Destination', label= 'Málaga')\n",
    "\n",
    "ax.set_title('Number of searches by destination')\n",
    "ax.set_xlabel('Month')\n",
    "ax.set_ylabel('Number of searches')\n",
    "ax.legend()"
   ]
  },
  {
   "cell_type": "markdown",
   "metadata": {},
   "source": [
    "## Step 2: Let's try it now with a sample and by using chunks"
   ]
  },
  {
   "cell_type": "markdown",
   "metadata": {},
   "source": [
    "We will do it now by using chunks and by selecting only 'Date' and 'Destination' columns in order to reduce the file size and the time of execution."
   ]
  },
  {
   "cell_type": "code",
   "execution_count": 29,
   "metadata": {},
   "outputs": [],
   "source": [
    "chksize = 10000"
   ]
  },
  {
   "cell_type": "code",
   "execution_count": 30,
   "metadata": {},
   "outputs": [
    {
     "name": "stdout",
     "output_type": "stream",
     "text": [
      "10\n"
     ]
    }
   ],
   "source": [
    "reader = pd.read_csv('/home/dsc/Data/challenge/searches.csv.bz2',compression='bz2',sep='^', usecols=['Date','Destination'], nrows=100000, iterator=True, chunksize=chksize)\n",
    "mad_chunks= []\n",
    "bcn_chunks= []\n",
    "mal_chunks= []\n",
    "chunk_counter=0\n",
    "\n",
    "for df in reader:\n",
    "    df['Month'] = df['Date'].str[-5:-3]\n",
    "    mad_sample = df[ df['Destination'] == 'MAD']\n",
    "    bcn_sample = df[ df['Destination'] == 'BCN']\n",
    "    mal_sample = df[ df['Destination'] == 'AGP']\n",
    "    mad_chunks.append(mad_sample.groupby(\"Month\")[['Destination']].count())\n",
    "    bcn_chunks.append(bcn_sample.groupby(\"Month\")[['Destination']].count())\n",
    "    mal_chunks.append(mal_sample.groupby(\"Month\")[['Destination']].count())\n",
    "    chunk_counter+=1\n",
    "\n",
    "print(chunk_counter)"
   ]
  },
  {
   "cell_type": "code",
   "execution_count": 31,
   "metadata": {},
   "outputs": [],
   "source": [
    "searches_mad = pd.concat(mad_chunks)\n",
    "searches_bcn = pd.concat(bcn_chunks)\n",
    "searches_mal = pd.concat(mal_chunks)"
   ]
  },
  {
   "cell_type": "code",
   "execution_count": 32,
   "metadata": {},
   "outputs": [
    {
     "data": {
      "text/html": [
       "<div>\n",
       "<style scoped>\n",
       "    .dataframe tbody tr th:only-of-type {\n",
       "        vertical-align: middle;\n",
       "    }\n",
       "\n",
       "    .dataframe tbody tr th {\n",
       "        vertical-align: top;\n",
       "    }\n",
       "\n",
       "    .dataframe thead th {\n",
       "        text-align: right;\n",
       "    }\n",
       "</style>\n",
       "<table border=\"1\" class=\"dataframe\">\n",
       "  <thead>\n",
       "    <tr style=\"text-align: right;\">\n",
       "      <th></th>\n",
       "      <th>Destination</th>\n",
       "    </tr>\n",
       "    <tr>\n",
       "      <th>Month</th>\n",
       "      <th></th>\n",
       "    </tr>\n",
       "  </thead>\n",
       "  <tbody>\n",
       "    <tr>\n",
       "      <th>03</th>\n",
       "      <td>14</td>\n",
       "    </tr>\n",
       "    <tr>\n",
       "      <th>03</th>\n",
       "      <td>145</td>\n",
       "    </tr>\n",
       "    <tr>\n",
       "      <th>01</th>\n",
       "      <td>148</td>\n",
       "    </tr>\n",
       "    <tr>\n",
       "      <th>03</th>\n",
       "      <td>133</td>\n",
       "    </tr>\n",
       "    <tr>\n",
       "      <th>01</th>\n",
       "      <td>11</td>\n",
       "    </tr>\n",
       "    <tr>\n",
       "      <th>02</th>\n",
       "      <td>155</td>\n",
       "    </tr>\n",
       "    <tr>\n",
       "      <th>02</th>\n",
       "      <td>129</td>\n",
       "    </tr>\n",
       "    <tr>\n",
       "      <th>01</th>\n",
       "      <td>125</td>\n",
       "    </tr>\n",
       "    <tr>\n",
       "      <th>04</th>\n",
       "      <td>147</td>\n",
       "    </tr>\n",
       "    <tr>\n",
       "      <th>01</th>\n",
       "      <td>141</td>\n",
       "    </tr>\n",
       "  </tbody>\n",
       "</table>\n",
       "</div>"
      ],
      "text/plain": [
       "       Destination\n",
       "Month             \n",
       "03              14\n",
       "03             145\n",
       "01             148\n",
       "03             133\n",
       "01              11\n",
       "02             155\n",
       "02             129\n",
       "01             125\n",
       "04             147\n",
       "01             141"
      ]
     },
     "execution_count": 32,
     "metadata": {},
     "output_type": "execute_result"
    }
   ],
   "source": [
    "searches_mad.sample(10)"
   ]
  },
  {
   "cell_type": "code",
   "execution_count": 36,
   "metadata": {},
   "outputs": [],
   "source": [
    "madrid = searches_mad.groupby(\"Month\")[['Destination']].sum().reset_index()\n",
    "barcelona = searches_bcn.groupby(\"Month\")[['Destination']].sum().reset_index()\n",
    "malaga = searches_mal.groupby(\"Month\")[['Destination']].sum().reset_index()"
   ]
  },
  {
   "cell_type": "code",
   "execution_count": 37,
   "metadata": {},
   "outputs": [
    {
     "data": {
      "text/plain": [
       "<matplotlib.legend.Legend at 0x7fda2298dc90>"
      ]
     },
     "execution_count": 37,
     "metadata": {},
     "output_type": "execute_result"
    },
    {
     "data": {
      "image/png": "[encoded data removed]",
      "text/plain": [
       "<Figure size 432x288 with 1 Axes>"
      ]
     },
     "metadata": {
      "needs_background": "light"
     },
     "output_type": "display_data"
    }
   ],
   "source": [
    "fig, ax = plt.subplots()\n",
    "\n",
    "ax1= sns.lineplot(data=madrid, x='Month', y= 'Destination', label='Madrid')\n",
    "ax2= sns.lineplot(data=barcelona, x='Month', y= 'Destination', label='Barcelona')\n",
    "ax3= sns.lineplot(data=malaga, x='Month', y= 'Destination', label= 'Málaga')\n",
    "\n",
    "ax.set_title('Number of searches by destination')\n",
    "ax.set_xlabel('Month')\n",
    "ax.set_ylabel('Number of searches')\n",
    "ax.legend()"
   ]
  },
  {
   "cell_type": "markdown",
   "metadata": {},
   "source": [
    "## Step 3: Let's try it now with the whole dataset"
   ]
  },
  {
   "cell_type": "code",
   "execution_count": 50,
   "metadata": {},
   "outputs": [],
   "source": [
    "chksize = 500000"
   ]
  },
  {
   "cell_type": "code",
   "execution_count": 41,
   "metadata": {},
   "outputs": [
    {
     "name": "stdout",
     "output_type": "stream",
     "text": [
      "41\n"
     ]
    }
   ],
   "source": [
    "reader = pd.read_csv('/home/dsc/Data/challenge/searches.csv.bz2',compression='bz2',sep='^', usecols=['Date','Destination'], iterator=True, chunksize=chksize)\n",
    "mad_chunks= []\n",
    "bcn_chunks= []\n",
    "mal_chunks= []\n",
    "chunk_counter=0\n",
    "\n",
    "for df in reader:\n",
    "    df['Month'] = df['Date'].str[-5:-3]\n",
    "    mad_sample = df[ df['Destination'] == 'MAD']\n",
    "    bcn_sample = df[ df['Destination'] == 'BCN']\n",
    "    mal_sample = df[ df['Destination'] == 'AGP']\n",
    "    mad_chunks.append(mad_sample.groupby(\"Month\")[['Destination']].count())\n",
    "    bcn_chunks.append(bcn_sample.groupby(\"Month\")[['Destination']].count())\n",
    "    mal_chunks.append(mal_sample.groupby(\"Month\")[['Destination']].count())\n",
    "    chunk_counter+=1\n",
    "\n",
    "print(chunk_counter)"
   ]
  },
  {
   "cell_type": "code",
   "execution_count": 43,
   "metadata": {},
   "outputs": [],
   "source": [
    "searches_mad = pd.concat(mad_chunks)\n",
    "searches_bcn = pd.concat(bcn_chunks)\n",
    "searches_mal = pd.concat(mal_chunks)"
   ]
  },
  {
   "cell_type": "code",
   "execution_count": 45,
   "metadata": {},
   "outputs": [],
   "source": [
    "madrid = searches_mad.groupby(\"Month\")[['Destination']].sum().reset_index()\n",
    "barcelona = searches_bcn.groupby(\"Month\")[['Destination']].sum().reset_index()\n",
    "malaga = searches_mal.groupby(\"Month\")[['Destination']].sum().reset_index()"
   ]
  },
  {
   "cell_type": "code",
   "execution_count": 46,
   "metadata": {},
   "outputs": [
    {
     "data": {
      "text/plain": [
       "<matplotlib.legend.Legend at 0x7fda234b5f90>"
      ]
     },
     "execution_count": 46,
     "metadata": {},
     "output_type": "execute_result"
    },
    {
     "data": {
      "image/png": "[encoded data removed]",
      "text/plain": [
       "<Figure size 432x288 with 1 Axes>"
      ]
     },
     "metadata": {
      "needs_background": "light"
     },
     "output_type": "display_data"
    }
   ],
   "source": [
    "fig, ax = plt.subplots()\n",
    "\n",
    "ax1= sns.lineplot(data=madrid, x='Month', y= 'Destination', label='Madrid')\n",
    "ax2= sns.lineplot(data=barcelona, x='Month', y= 'Destination', label='Barcelona')\n",
    "ax3= sns.lineplot(data=malaga, x='Month', y= 'Destination', label= 'Málaga')\n",
    "\n",
    "ax.set_title('Number of searches by destination')\n",
    "ax.set_xlabel('Month')\n",
    "ax.set_ylabel('Number of searches')\n",
    "ax.legend()"
   ]
  },
  {
   "cell_type": "markdown",
   "metadata": {},
   "source": [
    "## Step 4: Bonus Point"
   ]
  },
  {
   "cell_type": "markdown",
   "metadata": {},
   "source": [
    "Repeat the process dropping searches duplicated."
   ]
  },
  {
   "cell_type": "code",
   "execution_count": 49,
   "metadata": {},
   "outputs": [
    {
     "data": {
      "text/plain": [
       "Index(['Date', 'Time', 'TxnCode', 'OfficeID', 'Country', 'Origin',\n",
       "       'Destination', 'RoundTrip', 'NbSegments', 'Seg1Departure',\n",
       "       'Seg1Arrival', 'Seg1Date', 'Seg1Carrier', 'Seg1BookingCode',\n",
       "       'Seg2Departure', 'Seg2Arrival', 'Seg2Date', 'Seg2Carrier',\n",
       "       'Seg2BookingCode', 'Seg3Departure', 'Seg3Arrival', 'Seg3Date',\n",
       "       'Seg3Carrier', 'Seg3BookingCode', 'Seg4Departure', 'Seg4Arrival',\n",
       "       'Seg4Date', 'Seg4Carrier', 'Seg4BookingCode', 'Seg5Departure',\n",
       "       'Seg5Arrival', 'Seg5Date', 'Seg5Carrier', 'Seg5BookingCode',\n",
       "       'Seg6Departure', 'Seg6Arrival', 'Seg6Date', 'Seg6Carrier',\n",
       "       'Seg6BookingCode', 'From', 'IsPublishedForNeg', 'IsFromInternet',\n",
       "       'IsFromVista', 'TerminalID', 'InternetOffice', 'Month'],\n",
       "      dtype='object')"
      ]
     },
     "execution_count": 49,
     "metadata": {},
     "output_type": "execute_result"
    }
   ],
   "source": [
    "searches_sample.columns"
   ]
  },
  {
   "cell_type": "markdown",
   "metadata": {},
   "source": [
    "In order to define unique searches we will use 'Date', 'Time','OfficeID' and 'TerminalID' to drop duplicates."
   ]
  },
  {
   "cell_type": "markdown",
   "metadata": {},
   "source": [
    "Let's try first with a sample:"
   ]
  },
  {
   "cell_type": "code",
   "execution_count": 54,
   "metadata": {},
   "outputs": [],
   "source": [
    "chksize = 10000"
   ]
  },
  {
   "cell_type": "code",
   "execution_count": 55,
   "metadata": {},
   "outputs": [
    {
     "name": "stdout",
     "output_type": "stream",
     "text": [
      "10\n"
     ]
    }
   ],
   "source": [
    "reader = pd.read_csv('/home/dsc/Data/challenge/searches.csv.bz2',compression='bz2',sep='^', usecols=['Date','Time','OfficeID','TerminalID','Destination'], nrows=100000, iterator=True, chunksize=chksize)\n",
    "all_chunks= []\n",
    "chunk_counter=0\n",
    "\n",
    "for df in reader:\n",
    "    all_chunks.append(df.drop_duplicates())\n",
    "    chunk_counter+=1\n",
    "\n",
    "print(chunk_counter)"
   ]
  },
  {
   "cell_type": "code",
   "execution_count": 57,
   "metadata": {},
   "outputs": [],
   "source": [
    "unique_searches_sample = pd.concat(all_chunks)"
   ]
  },
  {
   "cell_type": "code",
   "execution_count": 58,
   "metadata": {},
   "outputs": [
    {
     "data": {
      "text/plain": [
       "(100000, 5)"
      ]
     },
     "execution_count": 58,
     "metadata": {},
     "output_type": "execute_result"
    }
   ],
   "source": [
    "unique_searches_sample.shape"
   ]
  },
  {
   "cell_type": "markdown",
   "metadata": {},
   "source": [
    "Apparently there were not duplicates in our sample so let's try it with the whole dataset:"
   ]
  },
  {
   "cell_type": "code",
   "execution_count": 3,
   "metadata": {},
   "outputs": [],
   "source": [
    "chksize = 200000"
   ]
  },
  {
   "cell_type": "code",
   "execution_count": 7,
   "metadata": {},
   "outputs": [
    {
     "ename": "AttributeError",
     "evalue": "'NoneType' object has no attribute 'drop_duplicates'",
     "output_type": "error",
     "traceback": [
      "\u001b[0;31m---------------------------------------------------------------------------\u001b[0m",
      "\u001b[0;31mAttributeError\u001b[0m                            Traceback (most recent call last)",
      "\u001b[0;32m<timed exec>\u001b[0m in \u001b[0;36m<module>\u001b[0;34m\u001b[0m\n",
      "\u001b[0;31mAttributeError\u001b[0m: 'NoneType' object has no attribute 'drop_duplicates'"
     ]
    }
   ],
   "source": [
    "%%time\n",
    "\n",
    "reader = pd.read_csv('/home/dsc/Data/challenge/searches.csv.bz2',compression='bz2',sep='^', usecols=['Date','Time','OfficeID','TerminalID','Destination'], iterator=True, chunksize=chksize)\n",
    "all_chunks= []\n",
    "chunk_counter=0\n",
    "\n",
    "for df in reader:\n",
    "    all_chunks=all_chunks.append(df)\n",
    "    all_chunks.drop_duplicates(inplace=True)\n",
    "    chunk_counter+=1\n",
    "    print(chunk_counter)"
   ]
  },
  {
   "cell_type": "code",
   "execution_count": 8,
   "metadata": {},
   "outputs": [
    {
     "name": "stdout",
     "output_type": "stream",
     "text": [
      "1\n",
      "2\n",
      "3\n",
      "4\n",
      "5\n",
      "6\n",
      "7\n",
      "8\n",
      "9\n",
      "10\n",
      "11\n",
      "12\n",
      "13\n",
      "14\n",
      "15\n",
      "16\n",
      "17\n",
      "18\n",
      "19\n",
      "20\n",
      "21\n",
      "22\n",
      "23\n",
      "24\n",
      "25\n",
      "26\n",
      "27\n",
      "28\n",
      "29\n",
      "30\n",
      "31\n",
      "32\n",
      "33\n",
      "34\n",
      "35\n",
      "36\n",
      "37\n",
      "38\n",
      "39\n",
      "40\n",
      "41\n",
      "42\n",
      "43\n",
      "44\n",
      "45\n",
      "46\n",
      "47\n",
      "48\n",
      "49\n",
      "50\n",
      "51\n",
      "52\n",
      "53\n",
      "54\n",
      "55\n",
      "56\n",
      "57\n",
      "58\n",
      "59\n",
      "60\n",
      "61\n",
      "62\n",
      "63\n",
      "64\n",
      "65\n",
      "66\n",
      "67\n",
      "68\n",
      "69\n",
      "70\n",
      "71\n",
      "72\n",
      "73\n",
      "74\n",
      "75\n",
      "76\n",
      "77\n",
      "78\n",
      "79\n",
      "80\n",
      "81\n",
      "82\n",
      "83\n",
      "84\n",
      "85\n",
      "86\n",
      "87\n",
      "88\n",
      "89\n",
      "90\n",
      "91\n",
      "92\n",
      "93\n",
      "94\n",
      "95\n",
      "96\n",
      "97\n",
      "98\n",
      "99\n",
      "100\n",
      "101\n",
      "102\n",
      "CPU times: user 4min 30s, sys: 8.39 s, total: 4min 38s\n",
      "Wall time: 4min 2s\n"
     ]
    }
   ],
   "source": [
    "%%time\n",
    "\n",
    "reader = pd.read_csv('/home/dsc/Data/challenge/searches.csv.bz2',compression='bz2',sep='^', usecols=['Date','Time','OfficeID','TerminalID','Destination'], iterator=True, chunksize=chksize)\n",
    "all_chunks= pd.DataFrame()\n",
    "chunk_counter=0\n",
    "\n",
    "for df in reader:\n",
    "    all_chunks=all_chunks.append(df)\n",
    "    all_chunks.drop_duplicates(inplace=True)\n",
    "    chunk_counter+=1\n",
    "    print(chunk_counter)"
   ]
  },
  {
   "cell_type": "code",
   "execution_count": 10,
   "metadata": {},
   "outputs": [
    {
     "data": {
      "text/plain": [
       "(359003, 5)"
      ]
     },
     "execution_count": 10,
     "metadata": {},
     "output_type": "execute_result"
    }
   ],
   "source": [
    "all_chunks.shape"
   ]
  },
  {
   "cell_type": "code",
   "execution_count": 11,
   "metadata": {},
   "outputs": [
    {
     "data": {
      "text/html": [
       "<div>\n",
       "<style scoped>\n",
       "    .dataframe tbody tr th:only-of-type {\n",
       "        vertical-align: middle;\n",
       "    }\n",
       "\n",
       "    .dataframe tbody tr th {\n",
       "        vertical-align: top;\n",
       "    }\n",
       "\n",
       "    .dataframe thead th {\n",
       "        text-align: right;\n",
       "    }\n",
       "</style>\n",
       "<table border=\"1\" class=\"dataframe\">\n",
       "  <thead>\n",
       "    <tr style=\"text-align: right;\">\n",
       "      <th></th>\n",
       "      <th>Date</th>\n",
       "      <th>Time</th>\n",
       "      <th>OfficeID</th>\n",
       "      <th>Destination</th>\n",
       "      <th>TerminalID</th>\n",
       "    </tr>\n",
       "  </thead>\n",
       "  <tbody>\n",
       "    <tr>\n",
       "      <th>287966</th>\n",
       "      <td>2013-10-15</td>\n",
       "      <td>13:06:05</td>\n",
       "      <td>c67abd6f0b032ef75348ecbecb4cb276</td>\n",
       "      <td>WAW</td>\n",
       "      <td>d41d8cd98f00b204e9800998ecf8427e</td>\n",
       "    </tr>\n",
       "    <tr>\n",
       "      <th>12572</th>\n",
       "      <td>2013-01-13</td>\n",
       "      <td>09:08:57</td>\n",
       "      <td>63d35a15724f95939e6d0dd0ca39be16</td>\n",
       "      <td>PER</td>\n",
       "      <td>d41d8cd98f00b204e9800998ecf8427e</td>\n",
       "    </tr>\n",
       "    <tr>\n",
       "      <th>121448</th>\n",
       "      <td>2013-05-02</td>\n",
       "      <td>09:26:32</td>\n",
       "      <td>50c54b52322080d2c257390f714f91bd</td>\n",
       "      <td>BUE</td>\n",
       "      <td>d41d8cd98f00b204e9800998ecf8427e</td>\n",
       "    </tr>\n",
       "    <tr>\n",
       "      <th>263412</th>\n",
       "      <td>2013-09-21</td>\n",
       "      <td>10:54:44</td>\n",
       "      <td>3561a60621de06ab1badc8ca55699ef3</td>\n",
       "      <td>TNR</td>\n",
       "      <td>d41d8cd98f00b204e9800998ecf8427e</td>\n",
       "    </tr>\n",
       "    <tr>\n",
       "      <th>279918</th>\n",
       "      <td>2013-10-07</td>\n",
       "      <td>08:27:05</td>\n",
       "      <td>be34e1bcffed441e2a4ca0f251594aa7</td>\n",
       "      <td>CUN</td>\n",
       "      <td>d41d8cd98f00b204e9800998ecf8427e</td>\n",
       "    </tr>\n",
       "    <tr>\n",
       "      <th>270424</th>\n",
       "      <td>2013-09-28</td>\n",
       "      <td>11:25:06</td>\n",
       "      <td>624d8c3ac0b3a7ca03e3c167e0f48327</td>\n",
       "      <td>RHO</td>\n",
       "      <td>d41d8cd98f00b204e9800998ecf8427e</td>\n",
       "    </tr>\n",
       "    <tr>\n",
       "      <th>218131</th>\n",
       "      <td>2013-08-07</td>\n",
       "      <td>01:59:12</td>\n",
       "      <td>b695299cc14ddcd1e31f1c922b3e258c</td>\n",
       "      <td>PAT</td>\n",
       "      <td>d41d8cd98f00b204e9800998ecf8427e</td>\n",
       "    </tr>\n",
       "    <tr>\n",
       "      <th>269806</th>\n",
       "      <td>2013-09-27</td>\n",
       "      <td>03:08:46</td>\n",
       "      <td>c5152f20dcf4f2240e5cf2342b211f51</td>\n",
       "      <td>BOM</td>\n",
       "      <td>d41d8cd98f00b204e9800998ecf8427e</td>\n",
       "    </tr>\n",
       "    <tr>\n",
       "      <th>227895</th>\n",
       "      <td>2013-08-16</td>\n",
       "      <td>00:28:28</td>\n",
       "      <td>0740601840a7932f90bd45e09e97b268</td>\n",
       "      <td>LAS</td>\n",
       "      <td>d41d8cd98f00b204e9800998ecf8427e</td>\n",
       "    </tr>\n",
       "    <tr>\n",
       "      <th>270640</th>\n",
       "      <td>2013-09-28</td>\n",
       "      <td>08:38:40</td>\n",
       "      <td>78d46c82fcdadca8a41f0cd4f4810175</td>\n",
       "      <td>IEV</td>\n",
       "      <td>d41d8cd98f00b204e9800998ecf8427e</td>\n",
       "    </tr>\n",
       "  </tbody>\n",
       "</table>\n",
       "</div>"
      ],
      "text/plain": [
       "              Date      Time                          OfficeID Destination  \\\n",
       "287966  2013-10-15  13:06:05  c67abd6f0b032ef75348ecbecb4cb276         WAW   \n",
       "12572   2013-01-13  09:08:57  63d35a15724f95939e6d0dd0ca39be16         PER   \n",
       "121448  2013-05-02  09:26:32  50c54b52322080d2c257390f714f91bd         BUE   \n",
       "263412  2013-09-21  10:54:44  3561a60621de06ab1badc8ca55699ef3         TNR   \n",
       "279918  2013-10-07  08:27:05  be34e1bcffed441e2a4ca0f251594aa7         CUN   \n",
       "270424  2013-09-28  11:25:06  624d8c3ac0b3a7ca03e3c167e0f48327         RHO   \n",
       "218131  2013-08-07  01:59:12  b695299cc14ddcd1e31f1c922b3e258c         PAT   \n",
       "269806  2013-09-27  03:08:46  c5152f20dcf4f2240e5cf2342b211f51         BOM   \n",
       "227895  2013-08-16  00:28:28  0740601840a7932f90bd45e09e97b268         LAS   \n",
       "270640  2013-09-28  08:38:40  78d46c82fcdadca8a41f0cd4f4810175         IEV   \n",
       "\n",
       "                              TerminalID  \n",
       "287966  d41d8cd98f00b204e9800998ecf8427e  \n",
       "12572   d41d8cd98f00b204e9800998ecf8427e  \n",
       "121448  d41d8cd98f00b204e9800998ecf8427e  \n",
       "263412  d41d8cd98f00b204e9800998ecf8427e  \n",
       "279918  d41d8cd98f00b204e9800998ecf8427e  \n",
       "270424  d41d8cd98f00b204e9800998ecf8427e  \n",
       "218131  d41d8cd98f00b204e9800998ecf8427e  \n",
       "269806  d41d8cd98f00b204e9800998ecf8427e  \n",
       "227895  d41d8cd98f00b204e9800998ecf8427e  \n",
       "270640  d41d8cd98f00b204e9800998ecf8427e  "
      ]
     },
     "execution_count": 11,
     "metadata": {},
     "output_type": "execute_result"
    }
   ],
   "source": [
    "all_chunks.sample(10)"
   ]
  },
  {
   "cell_type": "markdown",
   "metadata": {},
   "source": [
    "After dropping duplicates we only have 359003 rows to work with."
   ]
  },
  {
   "cell_type": "markdown",
   "metadata": {},
   "source": [
    "Let's continue with our analysis:"
   ]
  },
  {
   "cell_type": "code",
   "execution_count": 17,
   "metadata": {},
   "outputs": [],
   "source": [
    "all_chunks.to_csv('/home/dsc/Data/challenge/searches_without_duplicates.csv',sep='^')"
   ]
  },
  {
   "cell_type": "code",
   "execution_count": 19,
   "metadata": {},
   "outputs": [
    {
     "name": "stdout",
     "output_type": "stream",
     "text": [
      "bookings.csv.bz2  searches.csv.bz2  searches_without_duplicates.csv\r\n"
     ]
    }
   ],
   "source": [
    "!ls /home/dsc/Data/challenge/"
   ]
  },
  {
   "cell_type": "code",
   "execution_count": 13,
   "metadata": {},
   "outputs": [],
   "source": [
    "chksize=10000"
   ]
  },
  {
   "cell_type": "code",
   "execution_count": 20,
   "metadata": {},
   "outputs": [
    {
     "name": "stdout",
     "output_type": "stream",
     "text": [
      "36\n"
     ]
    }
   ],
   "source": [
    "reader = pd.read_csv('/home/dsc/Data/challenge/searches_without_duplicates.csv', sep='^', usecols=['Date','Destination'], iterator=True, chunksize=chksize)\n",
    "mad_chunks= []\n",
    "bcn_chunks= []\n",
    "mal_chunks= []\n",
    "chunk_counter=0\n",
    "\n",
    "for df in reader:\n",
    "    df['Month'] = df['Date'].str[-5:-3]\n",
    "    mad_sample = df[ df['Destination'] == 'MAD']\n",
    "    bcn_sample = df[ df['Destination'] == 'BCN']\n",
    "    mal_sample = df[ df['Destination'] == 'AGP']\n",
    "    mad_chunks.append(mad_sample.groupby(\"Month\")[['Destination']].count())\n",
    "    bcn_chunks.append(bcn_sample.groupby(\"Month\")[['Destination']].count())\n",
    "    mal_chunks.append(mal_sample.groupby(\"Month\")[['Destination']].count())\n",
    "    chunk_counter+=1\n",
    "\n",
    "print(chunk_counter)"
   ]
  },
  {
   "cell_type": "code",
   "execution_count": 21,
   "metadata": {},
   "outputs": [],
   "source": [
    "searches_mad = pd.concat(mad_chunks)\n",
    "searches_bcn = pd.concat(bcn_chunks)\n",
    "searches_mal = pd.concat(mal_chunks)"
   ]
  },
  {
   "cell_type": "code",
   "execution_count": 22,
   "metadata": {},
   "outputs": [],
   "source": [
    "madrid = searches_mad.groupby(\"Month\")[['Destination']].sum().reset_index()\n",
    "barcelona = searches_bcn.groupby(\"Month\")[['Destination']].sum().reset_index()\n",
    "malaga = searches_mal.groupby(\"Month\")[['Destination']].sum().reset_index()"
   ]
  },
  {
   "cell_type": "code",
   "execution_count": null,
   "metadata": {},
   "outputs": [],
   "source": []
  }
 ],
 "metadata": {
  "kernelspec": {
   "display_name": "Python 3",
   "language": "python",
   "name": "python3"
  },
  "language_info": {
   "codemirror_mode": {
    "name": "ipython",
    "version": 3
   },
   "file_extension": ".py",
   "mimetype": "text/x-python",
   "name": "python",
   "nbconvert_exporter": "python",
   "pygments_lexer": "ipython3",
   "version": "3.7.8"
  }
 },
 "nbformat": 4,
 "nbformat_minor": 2
}
