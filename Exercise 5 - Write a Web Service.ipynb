{
 "cells": [
  {
   "cell_type": "markdown",
   "metadata": {},
   "source": [
    "# Write a Web Service"
   ]
  },
  {
   "cell_type": "markdown",
   "metadata": {},
   "source": [
    "•  Wrap the output of the second exercise in a web service that returns the data in JSON format (instead of printing to the standard output).\n",
    "\n",
    "• The web service should accept a parameter n>0. For the top 10 airports, n is 10. For the X top airports, n is X"
   ]
  },
  {
   "cell_type": "markdown",
   "metadata": {},
   "source": [
    "## Step 1: Let's start with a sample"
   ]
  },
  {
   "cell_type": "markdown",
   "metadata": {},
   "source": [
    "#### Pandas dataframe and json output"
   ]
  },
  {
   "cell_type": "code",
   "execution_count": 30,
   "metadata": {},
   "outputs": [
    {
     "name": "stdout",
     "output_type": "stream",
     "text": [
      "Overwriting top_arrival_airports_2013.py\n"
     ]
    }
   ],
   "source": [
    "%%writefile top_arrival_airports_2013.py\n",
    "import streamlit as st\n",
    "import pandas as pd\n",
    "\n",
    "st.title('Top arrival airports in 2013')\n",
    "st.subheader('This web service will allow you to get the top arrival airports in terms of passengers in 2013 on a JSON format')\n",
    "st.markdown('Please insert the number of TOP airports you want to get. For instance, for the TOP 10 airports you will have to specify 10.')\n",
    "\n",
    "try:\n",
    "    n = int(st.text_input(\"Insert a number:\"))\n",
    "    \n",
    "    bookings_sample = pd.read_csv('bookings.sample.csv.bz2', compression='bz2', sep='^', usecols=['year','arr_port','pax'])\n",
    "    \n",
    "    bookings_sample_2013 = bookings_sample[bookings_sample['year'] == 2013]\n",
    "    top_airports = bookings_sample_2013.groupby('arr_port')['pax'].sum().sort_values(ascending=False).head(n)\n",
    "    \n",
    "    st.table(top_airports)\n",
    "    result_json = top_airports.to_json()\n",
    "    st.json(result_json)\n",
    "\n",
    "except ValueError:\n",
    "    st.error('Only numbers allowed as input')"
   ]
  },
  {
   "cell_type": "markdown",
   "metadata": {},
   "source": [
    "#### Only json output"
   ]
  },
  {
   "cell_type": "code",
   "execution_count": 31,
   "metadata": {},
   "outputs": [
    {
     "name": "stdout",
     "output_type": "stream",
     "text": [
      "Overwriting top_arrival_airports_2013.py\n"
     ]
    }
   ],
   "source": [
    "%%writefile top_arrival_airports_2013.py\n",
    "import streamlit as st\n",
    "import pandas as pd\n",
    "\n",
    "st.title('Top arrival airports in 2013')\n",
    "st.subheader('This web service will allow you to get the top arrival airports in terms of passengers in 2013 on a JSON format')\n",
    "st.markdown('Please insert the number of TOP airports you want to get. For instance, for the TOP 10 airports you will have to specify 10.')\n",
    "\n",
    "try:\n",
    "    \n",
    "    n = int(st.text_input(\"Insert a number:\"))\n",
    "\n",
    "    bookings_sample = pd.read_csv('bookings.sample.csv.bz2', compression='bz2', sep='^', usecols=['year','arr_port','pax'])\n",
    "\n",
    "    bookings_sample_2013 = bookings_sample[bookings_sample['year'] == 2013]\n",
    "    top_airports = bookings_sample_2013.groupby('arr_port')['pax'].sum().sort_values(ascending=False).head(n)\n",
    "\n",
    "    result_json = top_airports.to_json()\n",
    "    st.json(result_json)\n",
    "    \n",
    "\n",
    "except ValueError:\n",
    "    st.error('Only numbers allowed as input')"
   ]
  },
  {
   "cell_type": "markdown",
   "metadata": {},
   "source": [
    "## Step 2: Let's do it now with the whole dataset using chunks"
   ]
  },
  {
   "cell_type": "markdown",
   "metadata": {},
   "source": [
    "#### Pandas dataframe and json output"
   ]
  },
  {
   "cell_type": "code",
   "execution_count": 33,
   "metadata": {},
   "outputs": [
    {
     "name": "stdout",
     "output_type": "stream",
     "text": [
      "Overwriting top_arrival_airports_2013.py\n"
     ]
    }
   ],
   "source": [
    "%%writefile top_arrival_airports_2013.py\n",
    "import streamlit as st\n",
    "import pandas as pd\n",
    "\n",
    "st.title('Top arrival airports in 2013')\n",
    "st.subheader('This web service will allow you to get the top arrival airports in terms of passengers in 2013 on a JSON format')\n",
    "st.markdown('Please insert the number of TOP airports you want to get. For instance, for the TOP 10 airports you will have to specify 10.')\n",
    "\n",
    "try:\n",
    "\n",
    "    n = int(st.text_input(\"Insert a number:\"))\n",
    "\n",
    "    chksize = 100000\n",
    "    reader = pd.read_csv('/home/dsc/Data/challenge/bookings_without_duplicates.csv' , sep='^', usecols=['year','arr_port','pax'], iterator=True, chunksize=chksize)\n",
    "    all_chunks= []\n",
    "\n",
    "    for df in reader:\n",
    "        df = df[df['year'] == 2013]\n",
    "        result_chunk = df.groupby('arr_port')['pax'].sum()\n",
    "        all_chunks.append(result_chunk)\n",
    "    \n",
    "    pax_per_airport_2013 = pd.concat(all_chunks)\n",
    "    top_airports = pax_per_airport_2013.reset_index().groupby('arr_port')['pax'].sum().sort_values(ascending=False).head(n)\n",
    "    st.table(top_airports)\n",
    "\n",
    "    result_json = top_airports.to_json()\n",
    "    st.json(result_json)\n",
    "\n",
    "except ValueError:\n",
    "    st.error('Only numbers allowed as input')"
   ]
  },
  {
   "cell_type": "markdown",
   "metadata": {},
   "source": [
    "#### Only json output"
   ]
  },
  {
   "cell_type": "code",
   "execution_count": 34,
   "metadata": {},
   "outputs": [
    {
     "name": "stdout",
     "output_type": "stream",
     "text": [
      "Overwriting top_arrival_airports_2013.py\n"
     ]
    }
   ],
   "source": [
    "%%writefile top_arrival_airports_2013.py\n",
    "import streamlit as st\n",
    "import pandas as pd\n",
    "\n",
    "st.title('Top arrival airports in 2013')\n",
    "st.subheader('This web service will allow you to get the top arrival airports in terms of passengers in 2013 on a JSON format')\n",
    "st.markdown('Please insert the number of TOP airports you want to get. For instance, for the TOP 10 airports you will have to specify 10.')\n",
    "\n",
    "try:\n",
    "\n",
    "    n = int(st.text_input(\"Insert a number:\"))\n",
    "\n",
    "    chksize = 100000\n",
    "    reader = pd.read_csv('/home/dsc/Data/challenge/bookings_without_duplicates.csv' , sep='^', usecols=['year','arr_port','pax'], iterator=True, chunksize=chksize)\n",
    "    all_chunks= []\n",
    "\n",
    "    for df in reader:\n",
    "        df = df[df['year'] == 2013]\n",
    "        result_chunk = df.groupby('arr_port')['pax'].sum()\n",
    "        all_chunks.append(result_chunk)\n",
    "    \n",
    "    pax_per_airport_2013 = pd.concat(all_chunks)\n",
    "    top_airports = pax_per_airport_2013.reset_index().groupby('arr_port')['pax'].sum().sort_values(ascending=False).head(n)\n",
    "\n",
    "    result_json = top_airports.to_json()\n",
    "    st.json(result_json)\n",
    "\n",
    "except ValueError:\n",
    "    st.error('Only numbers allowed as input')"
   ]
  },
  {
   "cell_type": "markdown",
   "metadata": {},
   "source": [
    "## Step 3: Let's do it again with our csv uploaded online"
   ]
  },
  {
   "cell_type": "markdown",
   "metadata": {},
   "source": [
    "In order to reduce the csv uploaded online I will do the groupby analysis in local and I will load the data already sorted."
   ]
  },
  {
   "cell_type": "code",
   "execution_count": 44,
   "metadata": {},
   "outputs": [],
   "source": [
    "chksize = 100000\n",
    "reader = pd.read_csv('/home/dsc/Data/challenge/bookings_without_duplicates.csv' , sep='^', usecols=['year','arr_port','pax'], iterator=True, chunksize=chksize)\n",
    "all_chunks= []\n",
    "\n",
    "for df in reader:\n",
    "    df = df[df['year'] == 2013]\n",
    "    result_chunk = df.groupby('arr_port')['pax'].sum()\n",
    "    all_chunks.append(result_chunk)\n",
    "    \n",
    "pax_per_airport_2013 = pd.concat(all_chunks)\n",
    "pax_per_airport_2013_sorted = pax_per_airport_2013.reset_index().groupby('arr_port')['pax'].sum().sort_values(ascending=False)"
   ]
  },
  {
   "cell_type": "code",
   "execution_count": 45,
   "metadata": {},
   "outputs": [
    {
     "data": {
      "text/plain": [
       "arr_port\n",
       "LHR         9040.0\n",
       "MCO         7223.0\n",
       "LAX         7191.0\n",
       "LAS         7079.0\n",
       "JFK         6788.0\n",
       "CDG         6513.0\n",
       "BKK         6006.0\n",
       "SFO         5929.0\n",
       "MIA         5896.0\n",
       "DXB         5647.0\n",
       "ORD         5482.0\n",
       "FCO         4576.0\n",
       "IST         4442.0\n",
       "DFW         4336.0\n",
       "CUN         4279.0\n",
       "LGA         4212.0\n",
       "BCN         4206.0\n",
       "MAD         4175.0\n",
       "ATL         4101.0\n",
       "EWR         3836.0\n",
       "BOS         3673.0\n",
       "DEL         3605.0\n",
       "BOM         3392.0\n",
       "SYD         3381.0\n",
       "DEN         3361.0\n",
       "Name: pax, dtype: float64"
      ]
     },
     "execution_count": 45,
     "metadata": {},
     "output_type": "execute_result"
    }
   ],
   "source": [
    "pax_per_airport_2013_sorted.head(25)"
   ]
  },
  {
   "cell_type": "code",
   "execution_count": 46,
   "metadata": {},
   "outputs": [
    {
     "data": {
      "text/plain": [
       "(2274,)"
      ]
     },
     "execution_count": 46,
     "metadata": {},
     "output_type": "execute_result"
    }
   ],
   "source": [
    "pax_per_airport_2013_sorted.shape"
   ]
  },
  {
   "cell_type": "code",
   "execution_count": 47,
   "metadata": {},
   "outputs": [],
   "source": [
    "pax_per_airport_2013_sorted.to_csv('pax_per_airport_2013_sorted.csv', sep='^')"
   ]
  },
  {
   "cell_type": "code",
   "execution_count": 48,
   "metadata": {},
   "outputs": [
    {
     "name": "stdout",
     "output_type": "stream",
     "text": [
      " bookings.sample.csv.bz2\r\n",
      "'Exercise 1 - Counting the number of lines in a big file.ipynb'\r\n",
      "'Exercise 2 - Top 10 arrival airports in 2013 .ipynb'\r\n",
      "'Exercise 3 - Number of searches for Madrid, Barcelona and Malaga.ipynb'\r\n",
      "'Exercise 4 - Searches with bookings match.ipynb'\r\n",
      "'Exercise 5 - Write a Web Service.ipynb'\r\n",
      " pax_per_airport_2013_sorted.csv\r\n",
      " README.md\r\n",
      " searches.sample.csv.bz2\r\n",
      " top_arrival_airports_2013.py\r\n"
     ]
    }
   ],
   "source": [
    "!ls"
   ]
  },
  {
   "cell_type": "markdown",
   "metadata": {},
   "source": [
    "CSV file is already available online. Let's prepare our web service again with it."
   ]
  },
  {
   "cell_type": "code",
   "execution_count": 51,
   "metadata": {},
   "outputs": [
    {
     "name": "stdout",
     "output_type": "stream",
     "text": [
      "Overwriting top_arrival_airports_2013.py\n"
     ]
    }
   ],
   "source": [
    "%%writefile top_arrival_airports_2013.py\n",
    "import streamlit as st\n",
    "import pandas as pd\n",
    "\n",
    "st.title('Top arrival airports in 2013')\n",
    "st.subheader('This web service will allow you to get the top arrival airports in terms of passengers in 2013 on a JSON format')\n",
    "st.markdown('Please insert the number of TOP airports you want to get. For instance, for the TOP 10 airports you will have to specify 10.')\n",
    "\n",
    "try:\n",
    "\n",
    "    n = int(st.text_input(\"Insert a number:\"))\n",
    "\n",
    "    pax_per_airport_2013 = pd.read_csv('https://github.com/Laurajmoreno/DS_Challenge/blob/main/pax_per_airport_2013_sorted.csv?raw=true')\n",
    "    top_airports = pax_per_airport_2013.reset_index().head(n)\n",
    "\n",
    "    result_json = top_airports.to_json()\n",
    "    st.json(result_json)\n",
    "\n",
    "except ValueError:\n",
    "    st.error('Only numbers allowed as input')"
   ]
  },
  {
   "cell_type": "code",
   "execution_count": 52,
   "metadata": {},
   "outputs": [
    {
     "data": {
      "text/html": [
       "<div>\n",
       "<style scoped>\n",
       "    .dataframe tbody tr th:only-of-type {\n",
       "        vertical-align: middle;\n",
       "    }\n",
       "\n",
       "    .dataframe tbody tr th {\n",
       "        vertical-align: top;\n",
       "    }\n",
       "\n",
       "    .dataframe thead th {\n",
       "        text-align: right;\n",
       "    }\n",
       "</style>\n",
       "<table border=\"1\" class=\"dataframe\">\n",
       "  <thead>\n",
       "    <tr style=\"text-align: right;\">\n",
       "      <th></th>\n",
       "      <th>arr_port</th>\n",
       "      <th>pax</th>\n",
       "    </tr>\n",
       "  </thead>\n",
       "  <tbody>\n",
       "    <tr>\n",
       "      <th>0</th>\n",
       "      <td>LHR</td>\n",
       "      <td>9040.0</td>\n",
       "    </tr>\n",
       "    <tr>\n",
       "      <th>1</th>\n",
       "      <td>MCO</td>\n",
       "      <td>7223.0</td>\n",
       "    </tr>\n",
       "    <tr>\n",
       "      <th>2</th>\n",
       "      <td>LAX</td>\n",
       "      <td>7191.0</td>\n",
       "    </tr>\n",
       "    <tr>\n",
       "      <th>3</th>\n",
       "      <td>LAS</td>\n",
       "      <td>7079.0</td>\n",
       "    </tr>\n",
       "    <tr>\n",
       "      <th>4</th>\n",
       "      <td>JFK</td>\n",
       "      <td>6788.0</td>\n",
       "    </tr>\n",
       "  </tbody>\n",
       "</table>\n",
       "</div>"
      ],
      "text/plain": [
       "   arr_port     pax\n",
       "0  LHR       9040.0\n",
       "1  MCO       7223.0\n",
       "2  LAX       7191.0\n",
       "3  LAS       7079.0\n",
       "4  JFK       6788.0"
      ]
     },
     "execution_count": 52,
     "metadata": {},
     "output_type": "execute_result"
    }
   ],
   "source": [
    "test = pd.read_csv('pax_per_airport_2013_sorted.csv',sep='^')\n",
    "test.head()"
   ]
  },
  {
   "cell_type": "code",
   "execution_count": null,
   "metadata": {},
   "outputs": [],
   "source": []
  }
 ],
 "metadata": {
  "kernelspec": {
   "display_name": "Python 3",
   "language": "python",
   "name": "python3"
  },
  "language_info": {
   "codemirror_mode": {
    "name": "ipython",
    "version": 3
   },
   "file_extension": ".py",
   "mimetype": "text/x-python",
   "name": "python",
   "nbconvert_exporter": "python",
   "pygments_lexer": "ipython3",
   "version": "3.7.8"
  }
 },
 "nbformat": 4,
 "nbformat_minor": 2
}
