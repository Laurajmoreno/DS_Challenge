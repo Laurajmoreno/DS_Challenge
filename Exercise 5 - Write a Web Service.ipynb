{
 "cells": [
  {
   "cell_type": "markdown",
   "metadata": {},
   "source": [
    "# Write a Web Service"
   ]
  },
  {
   "cell_type": "markdown",
   "metadata": {},
   "source": [
    "•  Wrap the output of the second exercise in a web service that returns the data in JSON format (instead of printing to the standard output).\n",
    "\n",
    "• The web service should accept a parameter n>0. For the top 10 airports, n is 10. For the X top airports, n is X"
   ]
  },
  {
   "cell_type": "markdown",
   "metadata": {},
   "source": [
    "## Step 1: Let's start with a sample"
   ]
  },
  {
   "cell_type": "code",
   "execution_count": 25,
   "metadata": {},
   "outputs": [
    {
     "name": "stdout",
     "output_type": "stream",
     "text": [
      "Overwriting top_arrival_airports_2013.py\n"
     ]
    }
   ],
   "source": [
    "%%writefile top_arrival_airports_2013.py\n",
    "import streamlit as st\n",
    "import pandas as pd\n",
    "\n",
    "st.title('Top arrival airports in 2013')\n",
    "st.subheader('This web service will allow you to get the top arrival airports in terms of passengers in 2013 on a JSON format')\n",
    "st.markdown('Please insert the number of TOP airports you want to get. For instance, for the TOP 10 airports you will have to specify 10.')\n",
    "\n",
    "n = int(st.text_input(\"Insert a number:\"))\n",
    "\n",
    "bookings_sample = pd.read_csv('bookings.sample.csv.bz2', compression='bz2', sep='^', usecols=['year','arr_port','pax'])\n",
    "\n",
    "bookings_sample_2013 = bookings_sample[bookings_sample['year'] == 2013]\n",
    "top_airports = bookings_sample_2013.groupby('arr_port')['pax'].sum().sort_values(ascending=False).head(10)\n",
    "st.table(top_airports)\n",
    "\n",
    "result_json = top_airports.to_json()\n",
    "st.json(result_json)"
   ]
  },
  {
   "cell_type": "markdown",
   "metadata": {},
   "source": [
    "## Step 2: Let's do it now with the whole dataset using chunks"
   ]
  },
  {
   "cell_type": "code",
   "execution_count": 24,
   "metadata": {},
   "outputs": [
    {
     "name": "stdout",
     "output_type": "stream",
     "text": [
      "Overwriting top_arrival_airports_2013.py\n"
     ]
    }
   ],
   "source": [
    "%%writefile top_arrival_airports_2013.py\n",
    "import streamlit as st\n",
    "import pandas as pd\n",
    "\n",
    "st.title('Top arrival airports in 2013')\n",
    "st.subheader('This web service will allow you to get the top arrival airports in terms of passengers in 2013 on a JSON format')\n",
    "st.markdown('Please insert the number of TOP airports you want to get. For instance, for the TOP 10 airports you will have to specify 10.')\n",
    "\n",
    "n = int(st.text_input(\"Insert a number:\"))\n",
    "\n",
    "chksize = 100000\n",
    "reader = pd.read_csv('/home/dsc/Data/challenge/bookings_without_duplicates.csv' , sep='^', usecols=['year','arr_port','pax'], iterator=True, chunksize=chksize)\n",
    "all_chunks= pd.DataFrame()\n",
    "\n",
    "for df in reader:\n",
    "    df = df[df['year'] == 2013]\n",
    "    result_chunk = df.groupby('arr_port')['pax'].sum()\n",
    "    all_chunks = all_chunks.append(result_chunk)\n",
    "\n",
    "top_airports = all_chunks.groupby('arr_port')['pax'].sum().sort_values(ascending=False).head(n)\n",
    "st.table(top_airports)\n",
    "\n",
    "result_json = top_airports.to_json()\n",
    "st.json(result_json)"
   ]
  },
  {
   "cell_type": "markdown",
   "metadata": {},
   "source": [
    "## Step 3: Let's do it again with a sample uploaded on the Internet"
   ]
  },
  {
   "cell_type": "code",
   "execution_count": 21,
   "metadata": {},
   "outputs": [
    {
     "name": "stdout",
     "output_type": "stream",
     "text": [
      "Overwriting top_arrival_airports_2013.py\n"
     ]
    }
   ],
   "source": [
    "%%writefile top_arrival_airports_2013.py\n",
    "import streamlit as st\n",
    "import pandas as pd\n",
    "\n",
    "st.title('Top arrival airports in 2013')\n",
    "st.subheader('This web service will allow you to get the top arrival airports in terms of passengers in 2013 on a JSON format')\n",
    "st.markdown('Please insert the number of TOP airports you want to get. For instance, for the TOP 10 airports you will have to specify 10.')\n",
    "\n",
    "n = int(st.text_input(\"Insert a number:\"))\n",
    "\n",
    "bookings_sample = pd.read_csv('https://github.com/Laurajmoreno/DS_Challenge/blob/main/bookings.sample.csv.bz2', compression='bz2', sep='^', usecols=['year','arr_port','pax'])\n",
    "\n",
    "bookings_sample_2013 = bookings_sample[bookings_sample['year'] == 2013]\n",
    "top_airports = bookings_sample_2013.groupby('arr_port')['pax'].sum().sort_values(ascending=False).head(10)\n",
    "st.table(top_airports.head())\n",
    "\n",
    "result_json = top_airports.to_json()\n",
    "st.json(result_json)"
   ]
  },
  {
   "cell_type": "code",
   "execution_count": null,
   "metadata": {},
   "outputs": [],
   "source": []
  },
  {
   "cell_type": "code",
   "execution_count": null,
   "metadata": {},
   "outputs": [],
   "source": []
  },
  {
   "cell_type": "code",
   "execution_count": null,
   "metadata": {},
   "outputs": [],
   "source": [
    "%%writefile top_arrival_airports_2013.py\n",
    "import streamlit as st\n",
    "import pandas as pd\n",
    "\n",
    "st.title('Top arrival airports in 2013')\n",
    "st.subheader('This web service will allow you to get the top arrival airports in terms of passengers in 2013 on a JSON format')\n",
    "st.markdown('Please insert the number of TOP airports you want to get. For instance, for the TOP 10 airports you will have to specify 10.')\n",
    "\n",
    "n = st.text_input(\"Insert a number:\")\n",
    "\n",
    "@st.cache\n",
    "def get_csv():\n",
    "    return pd.read_csv('https://github.com/Laurajmoreno/DS_Challenge/blob/main/bookings.sample.csv.bz2', compression='bz2', sep='^', usecols=['year','arr_port','pax'])\n",
    "bookings_sample = get_csv()\n",
    "\n",
    "bookings_sample_2013 = bookings_sample[bookings_sample['year'] == 2013]\n",
    "st.table(bookings_sample_2013.head())"
   ]
  },
  {
   "cell_type": "code",
   "execution_count": 8,
   "metadata": {},
   "outputs": [
    {
     "name": "stdout",
     "output_type": "stream",
     "text": [
      "Overwriting top_arrival_airports_2013.py\n"
     ]
    }
   ],
   "source": [
    "%%writefile top_arrival_airports_2013.py\n",
    "import streamlit as st\n",
    "import pandas as pd\n",
    "\n",
    "st.title('Top arrival airports in 2013')\n",
    "st.subheader('This web service will allow you to get the top arrival airports in terms of passengers in 2013 on a JSON format')\n",
    "st.markdown('Please insert the number of TOP airports you want to get. For instance, for the TOP 10 airports you will have to specify 10.')\n",
    "\n",
    "n = st.text_input(\"Insert a number:\")\n",
    "\n",
    "chksize=100\n",
    "\n",
    "@st.cache\n",
    "def csv_():\n",
    "    return pd.read_csv('https://github.com/Laurajmoreno/DS_Challenge/blob/main/bookings.sample.csv.bz2', compression='bz2', sep='^', usecols=['year','arr_port','pax'], iterator=True, chunksize=chksize)\n",
    "\n",
    "reader = csv_()\n",
    "all_chunks= pd.DataFrame()\n",
    "\n",
    "for df in reader:\n",
    "    df = df[df['year'] == 2013]\n",
    "    result_chunk = df.groupby('arr_port')['pax'].sum()\n",
    "    all_chunks = all_chunks.append(result_chunk)\n",
    "\n",
    "result = pax_per_airport_2013.reset_index().groupby('arr_port')['pax'].sum().sort_values(ascending=False).head(n)\n",
    "result_json = result.to_json()\n",
    "\n",
    "st.json(result_json)\n"
   ]
  },
  {
   "cell_type": "code",
   "execution_count": 7,
   "metadata": {},
   "outputs": [
    {
     "name": "stdout",
     "output_type": "stream",
     "text": [
      " bookings.sample.csv.bz2\r\n",
      "'Exercise 1 - Counting the number of lines in a big file.ipynb'\r\n",
      "'Exercise 2 - Top 10 arrival airports in 2013 .ipynb'\r\n",
      "'Exercise 3 - Number of searches for Madrid, Barcelona and Malaga.ipynb'\r\n",
      "'Exercise 4 - Searches with bookings match.ipynb'\r\n",
      "'Exercise 5 - Write a Web Service.ipynb'\r\n",
      " README.md\r\n",
      " searches.sample.csv.bz2\r\n",
      " top_arrival_airports_2013.py\r\n"
     ]
    }
   ],
   "source": [
    "!ls"
   ]
  },
  {
   "cell_type": "code",
   "execution_count": null,
   "metadata": {},
   "outputs": [],
   "source": []
  }
 ],
 "metadata": {
  "kernelspec": {
   "display_name": "Python 3",
   "language": "python",
   "name": "python3"
  },
  "language_info": {
   "codemirror_mode": {
    "name": "ipython",
    "version": 3
   },
   "file_extension": ".py",
   "mimetype": "text/x-python",
   "name": "python",
   "nbconvert_exporter": "python",
   "pygments_lexer": "ipython3",
   "version": "3.7.8"
  }
 },
 "nbformat": 4,
 "nbformat_minor": 2
}
